{
  "nbformat": 4,
  "nbformat_minor": 0,
  "metadata": {
    "colab": {
      "provenance": []
    },
    "kernelspec": {
      "name": "python3",
      "display_name": "Python 3"
    },
    "language_info": {
      "name": "python"
    }
  },
  "cells": [
    {
      "cell_type": "code",
      "execution_count": 1,
      "metadata": {
        "colab": {
          "base_uri": "https://localhost:8080/"
        },
        "id": "VxPbx6CB-qHn",
        "outputId": "869e3c75-733a-4861-af26-25781968f160"
      },
      "outputs": [
        {
          "output_type": "stream",
          "name": "stdout",
          "text": [
            "0\n",
            "1\n",
            "2\n",
            "3\n",
            "4\n"
          ]
        }
      ],
      "source": [
        "#for döngüsü örneği:0'dan 4'e kadar olan sayıları yazdırılması işleniyor\n",
        "for i in range(5):\n",
        "  print(i)"
      ]
    },
    {
      "cell_type": "code",
      "source": [
        "#for dngüsü örneği alışveriş listesini oluşturma\n",
        "liste =[\"elma\",\"ekmek\",\"süt\",\"peynir\"]\n",
        "for alinacaklar in liste:\n",
        "  print(alinacaklar)"
      ],
      "metadata": {
        "colab": {
          "base_uri": "https://localhost:8080/"
        },
        "id": "hfMLUlsZB2Ut",
        "outputId": "76f91fff-5718-4c67-edab-b4635dae5f2d"
      },
      "execution_count": 2,
      "outputs": [
        {
          "output_type": "stream",
          "name": "stdout",
          "text": [
            "elma\n",
            "ekmek\n",
            "süt\n",
            "peynir\n"
          ]
        }
      ]
    },
    {
      "cell_type": "code",
      "source": [
        "#for döngüsü örneği:bir sınıftaki öğrencilerin ortalamasının programı\n",
        "notlar=[85,92,78,90,88]\n",
        "toplam=0\n",
        "for sayi in notlar:\n",
        "    toplam+=sayi\n",
        "ortalama=toplam/len(notlar)\n",
        "print(\"Birinci print -> Not Ortalaması\",ortalama)\n",
        "print(f\"İkinci print -> Not Ortalaması:{ortalama}\")\n",
        "\n"
      ],
      "metadata": {
        "colab": {
          "base_uri": "https://localhost:8080/"
        },
        "id": "lei6I2ogB2L9",
        "outputId": "5b77f54b-e6c0-4480-abee-2be244b81276"
      },
      "execution_count": 3,
      "outputs": [
        {
          "output_type": "stream",
          "name": "stdout",
          "text": [
            "Birinci print -> Not Ortalaması 86.6\n",
            "İkinci print -> Not Ortalaması:86.6\n"
          ]
        }
      ]
    },
    {
      "cell_type": "code",
      "source": [
        "#while döngüsü örneği: 0'dan 4'e kadar\n",
        "i=0\n",
        "while i < 5 :\n",
        "  print(i)\n",
        "  i+=1"
      ],
      "metadata": {
        "colab": {
          "base_uri": "https://localhost:8080/"
        },
        "id": "_c_HsY9LB2B1",
        "outputId": "ebc1b973-2a14-4121-9482-8569b6a97ed8"
      },
      "execution_count": 4,
      "outputs": [
        {
          "output_type": "stream",
          "name": "stdout",
          "text": [
            "0\n",
            "1\n",
            "2\n",
            "3\n",
            "4\n"
          ]
        }
      ]
    },
    {
      "cell_type": "code",
      "source": [
        "#Kullanıcıdan bir ayı alınması\n",
        "user_input=int(input(\"Bir sayı girin:\"))\n",
        "i=0\n",
        "while i<= user_input:\n",
        "    print(i)\n",
        "    i+=1"
      ],
      "metadata": {
        "colab": {
          "base_uri": "https://localhost:8080/"
        },
        "id": "6nSdGRdFWJkX",
        "outputId": "b9af09f5-e4d4-40ef-b680-373baaa53e4a"
      },
      "execution_count": 6,
      "outputs": [
        {
          "output_type": "stream",
          "name": "stdout",
          "text": [
            "Bir sayı girin:18\n",
            "0\n",
            "1\n",
            "2\n",
            "3\n",
            "4\n",
            "5\n",
            "6\n",
            "7\n",
            "8\n",
            "9\n",
            "10\n",
            "11\n",
            "12\n",
            "13\n",
            "14\n",
            "15\n",
            "16\n",
            "17\n",
            "18\n"
          ]
        }
      ]
    },
    {
      "cell_type": "code",
      "source": [
        "user_input=int(input(\"Bir sayı giriniz:\"))\n",
        "i=0\n",
        "while i<=user_input:\n",
        "  print(i)\n",
        "  i+=3"
      ],
      "metadata": {
        "colab": {
          "base_uri": "https://localhost:8080/"
        },
        "id": "olX-3I8LWJ9d",
        "outputId": "6a28eabb-35e2-4509-8735-4122fa03c52a"
      },
      "execution_count": 8,
      "outputs": [
        {
          "output_type": "stream",
          "name": "stdout",
          "text": [
            "Bir sayı giriniz:18\n",
            "0\n",
            "3\n",
            "6\n",
            "9\n",
            "12\n",
            "15\n",
            "18\n"
          ]
        }
      ]
    },
    {
      "cell_type": "code",
      "source": [
        "#break örneği:3'e ulaştığında döngü sonlandıran kod bloğudur.\n",
        "for i in range(5):\n",
        "  if i ==3:\n",
        "      break\n",
        "  print(i)"
      ],
      "metadata": {
        "colab": {
          "base_uri": "https://localhost:8080/"
        },
        "id": "feX-tdXeWKCF",
        "outputId": "89b7242c-20a4-4fd2-c888-56de6530f062"
      },
      "execution_count": 9,
      "outputs": [
        {
          "output_type": "stream",
          "name": "stdout",
          "text": [
            "0\n",
            "1\n",
            "2\n"
          ]
        }
      ]
    },
    {
      "cell_type": "code",
      "source": [
        "for i in range(5):\n",
        "  if i==3:\n",
        "      continue\n",
        "  print(i)"
      ],
      "metadata": {
        "colab": {
          "base_uri": "https://localhost:8080/"
        },
        "id": "70WuKGRWYGLE",
        "outputId": "106a7809-ea4e-40e7-9898-36a1377e2556"
      },
      "execution_count": 10,
      "outputs": [
        {
          "output_type": "stream",
          "name": "stdout",
          "text": [
            "0\n",
            "1\n",
            "2\n",
            "4\n"
          ]
        }
      ]
    },
    {
      "cell_type": "code",
      "source": [
        "#iç içe for döngüsü örneği:2boyutlu bir matrisin elemanları üzerinde işlemler\n",
        "matris=[\n",
        "    [1,2,3],\n",
        "    [4,5,6],\n",
        "    [7,8,9]\n",
        "]\n",
        "for x in matris:\n",
        "  for y in x:\n",
        "    print(y)\n"
      ],
      "metadata": {
        "colab": {
          "base_uri": "https://localhost:8080/"
        },
        "id": "6bSldICzYkvk",
        "outputId": "ff883a7a-6e2b-498b-ad47-8f78a0de4d79"
      },
      "execution_count": 11,
      "outputs": [
        {
          "output_type": "stream",
          "name": "stdout",
          "text": [
            "1\n",
            "2\n",
            "3\n",
            "4\n",
            "5\n",
            "6\n",
            "7\n",
            "8\n",
            "9\n"
          ]
        }
      ]
    },
    {
      "cell_type": "code",
      "source": [
        "#Kullanıcıdan bilgi alınması\n",
        "while True:\n",
        "    try:\n",
        "        gelen_bilgi = int(input(\"Bir sayı girin:\"))\n",
        "        break\n",
        "    except ValueError:\n",
        "        print(\"Lütfen geçerli bir sayı girin!\")\n",
        "i=0\n",
        "while i<= gelen_bilgi:\n",
        "      print(i)\n",
        "      i+=1"
      ],
      "metadata": {
        "colab": {
          "base_uri": "https://localhost:8080/"
        },
        "id": "anYOsbRLa5p2",
        "outputId": "13e3455b-288b-4e60-f960-e8bd3174cf33"
      },
      "execution_count": 24,
      "outputs": [
        {
          "output_type": "stream",
          "name": "stdout",
          "text": [
            "Bir sayı girin:15\n",
            "0\n",
            "1\n",
            "2\n",
            "3\n",
            "4\n",
            "5\n",
            "6\n",
            "7\n",
            "8\n",
            "9\n",
            "10\n",
            "11\n",
            "12\n",
            "13\n",
            "14\n",
            "15\n"
          ]
        }
      ]
    },
    {
      "cell_type": "code",
      "source": [
        "#while döngüsü örneği:kullanıcı bakiye bilgisinin sorgulanması\n",
        "toplam_ucret=1000\n",
        "while toplam_ucret > 0:\n",
        "    try:\n",
        "       cekilen_tutar=int(input(\"Çekmek istediğiniz miktarı giriniz:\"))\n",
        "       if cekilen_tutar > toplam_ucret:\n",
        "          print(\"Yetersiz bakiye!\")\n",
        "          bilgi=input(\"İşleme devam etmek istiyor musunuz?(e/h):\").lower()\n",
        "          if bilgi ==\"h\":\n",
        "            print(\"İşlem sonlandırıldı.\")\n",
        "            break\n",
        "       else:\n",
        "           toplam_ucret -=  cekilen_tutar\n",
        "           print(f\"Kalan bakiye{toplam_ucret}\")\n",
        "       if toplam_ucret == 0:\n",
        "           print(\"Bakiye tükendi.\")\n",
        "           break\n",
        "    except ValueError:\n",
        "      print(\"Lütfen geçerli bir sayı girin!\")\n"
      ],
      "metadata": {
        "colab": {
          "base_uri": "https://localhost:8080/"
        },
        "id": "pET70Ap_a5w9",
        "outputId": "76ada7a3-d574-42ce-c722-287ad67957ff"
      },
      "execution_count": 25,
      "outputs": [
        {
          "output_type": "stream",
          "name": "stdout",
          "text": [
            "Çekmek istediğiniz miktarı giriniz:500\n",
            "Kalan bakiye500\n",
            "Çekmek istediğiniz miktarı giriniz:200\n",
            "Kalan bakiye300\n",
            "Çekmek istediğiniz miktarı giriniz:100\n",
            "Kalan bakiye200\n",
            "Çekmek istediğiniz miktarı giriniz:200\n",
            "Kalan bakiye0\n",
            "Bakiye tükendi.\n"
          ]
        }
      ]
    },
    {
      "cell_type": "markdown",
      "source": [],
      "metadata": {
        "id": "GD63USizf3Yc"
      }
    },
    {
      "cell_type": "code",
      "source": [],
      "metadata": {
        "id": "ucrUEUsaa539"
      },
      "execution_count": null,
      "outputs": []
    }
  ]
}